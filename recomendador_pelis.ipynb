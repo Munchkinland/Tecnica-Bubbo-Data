{
  "cells": [
    {
      "cell_type": "code",
      "execution_count": 1,
      "metadata": {
        "id": "g80aaz5r4-lG"
      },
      "outputs": [],
      "source": [
        "# 0. Importacion de librerias\n",
        "import pandas as pd\n",
        "import numpy as np\n",
        "from sklearn.metrics.pairwise import cosine_similarity\n",
        "from sklearn.model_selection import train_test_split\n",
        "from sklearn.metrics import precision_score, recall_score\n"
      ]
    },
    {
      "cell_type": "code",
      "execution_count": 2,
      "metadata": {
        "id": "kYetvr6vOSEO"
      },
      "outputs": [],
      "source": [
        "# 1. Carga de datos\n",
        "ratings_df = pd.read_csv('data/ratings.csv')\n",
        "movies_df = pd.read_csv('data/movies.csv')"
      ]
    },
    {
      "cell_type": "code",
      "execution_count": 3,
      "metadata": {
        "colab": {
          "base_uri": "https://localhost:8080/"
        },
        "id": "Z19Xq8V6Odn2",
        "outputId": "fcccb8a8-2e90-4a1a-bd15-94cc19fd38b1"
      },
      "outputs": [
        {
          "name": "stdout",
          "output_type": "stream",
          "text": [
            "<class 'pandas.core.frame.DataFrame'>\n",
            "RangeIndex: 100836 entries, 0 to 100835\n",
            "Data columns (total 4 columns):\n",
            " #   Column     Non-Null Count   Dtype  \n",
            "---  ------     --------------   -----  \n",
            " 0   userId     100836 non-null  int64  \n",
            " 1   movieId    100836 non-null  int64  \n",
            " 2   rating     100836 non-null  float64\n",
            " 3   timestamp  100836 non-null  int64  \n",
            "dtypes: float64(1), int64(3)\n",
            "memory usage: 3.1 MB\n",
            "None\n",
            "<class 'pandas.core.frame.DataFrame'>\n",
            "RangeIndex: 9742 entries, 0 to 9741\n",
            "Data columns (total 3 columns):\n",
            " #   Column   Non-Null Count  Dtype \n",
            "---  ------   --------------  ----- \n",
            " 0   movieId  9742 non-null   int64 \n",
            " 1   title    9742 non-null   object\n",
            " 2   genres   9742 non-null   object\n",
            "dtypes: int64(1), object(2)\n",
            "memory usage: 228.5+ KB\n",
            "None\n",
            "   userId  movieId  rating  timestamp\n",
            "0       1        1     4.0  964982703\n",
            "1       1        3     4.0  964981247\n",
            "2       1        6     4.0  964982224\n",
            "3       1       47     5.0  964983815\n",
            "4       1       50     5.0  964982931\n",
            "   movieId                               title  \\\n",
            "0        1                    Toy Story (1995)   \n",
            "1        2                      Jumanji (1995)   \n",
            "2        3             Grumpier Old Men (1995)   \n",
            "3        4            Waiting to Exhale (1995)   \n",
            "4        5  Father of the Bride Part II (1995)   \n",
            "\n",
            "                                        genres  \n",
            "0  Adventure|Animation|Children|Comedy|Fantasy  \n",
            "1                   Adventure|Children|Fantasy  \n",
            "2                               Comedy|Romance  \n",
            "3                         Comedy|Drama|Romance  \n",
            "4                                       Comedy  \n",
            "Index(['userId', 'movieId', 'rating', 'timestamp'], dtype='object')\n",
            "Index(['movieId', 'title', 'genres'], dtype='object')\n",
            "userId       0\n",
            "movieId      0\n",
            "rating       0\n",
            "timestamp    0\n",
            "dtype: int64\n",
            "movieId    0\n",
            "title      0\n",
            "genres     0\n",
            "dtype: int64\n"
          ]
        }
      ],
      "source": [
        "# 2. Explorar y limpiar los datos\n",
        "print(ratings_df.info())\n",
        "print(movies_df.info())\n",
        "\n",
        "# Imprimir cabeceras\n",
        "\n",
        "print(ratings_df.head())\n",
        "print(movies_df.head())\n",
        "\n",
        "# Imprimir columnas\n",
        "\n",
        "print(ratings_df.columns)\n",
        "print(movies_df.columns)\n",
        "\n",
        "# Verificar valores nulos\n",
        "print(ratings_df.isnull().sum())\n",
        "print(movies_df.isnull().sum())\n",
        "\n",
        "# Eliminar filas con valores nulos si existen\n",
        "ratings_df = ratings_df.dropna()\n",
        "movies_df = movies_df.dropna()"
      ]
    },
    {
      "cell_type": "code",
      "execution_count": 4,
      "metadata": {
        "id": "wLVyjkJ3OpP4"
      },
      "outputs": [],
      "source": [
        "# 3. Implementar algoritmo de filtrado colaborativo basado en ítems\n",
        "\n",
        "# Crear matriz de usuarios-películas\n",
        "user_movie_ratings = ratings_df.pivot(index='userId', columns='movieId', values='rating').fillna(0)\n",
        "\n",
        "# Calcular la similitud entre películas\n",
        "movie_similarity = cosine_similarity(user_movie_ratings.T)"
      ]
    },
    {
      "cell_type": "code",
      "execution_count": 5,
      "metadata": {
        "colab": {
          "base_uri": "https://localhost:8080/"
        },
        "id": "WzYpp8EgO4U9",
        "outputId": "4ee6be48-7db4-4c07-e897-16e3736f31d8"
      },
      "outputs": [
        {
          "name": "stdout",
          "output_type": "stream",
          "text": [
            "Precision: 0.19\n",
            "Recall: 0.03\n"
          ]
        }
      ],
      "source": [
        "# 4. Evaluar el rendimiento del sistema\n",
        "\n",
        "# Dividir los datos en conjuntos de entrenamiento y prueba\n",
        "train_data, test_data = train_test_split(ratings_df, test_size=0.2, random_state=42)\n",
        "\n",
        "# Función para obtener recomendaciones\n",
        "def get_recommendations(user_id, n=5):\n",
        "  user_ratings = user_movie_ratings.loc[user_id]\n",
        "  similar_scores = pd.DataFrame(movie_similarity, columns=user_movie_ratings.columns, index=user_movie_ratings.columns)\n",
        "  similar_movies = similar_scores.mul(user_ratings, axis=1).sum().sort_values(ascending=False)\n",
        "  return similar_movies.index[:n].tolist()\n",
        "\n",
        "# Calcular precisión y exhaustividad\n",
        "def calculate_metrics(test_data):\n",
        "  true_positives = 0\n",
        "  false_positives = 0\n",
        "  false_negatives = 0\n",
        "\n",
        "  for user_id in test_data['userId'].unique():\n",
        "      user_test_ratings = test_data[test_data['userId'] == user_id]\n",
        "      recommended_movies = get_recommendations(user_id)\n",
        "\n",
        "      for movie in recommended_movies:\n",
        "          if movie in user_test_ratings['movieId'].values:\n",
        "              true_positives += 1\n",
        "          else:\n",
        "              false_positives += 1\n",
        "\n",
        "      false_negatives += len(set(user_test_ratings['movieId']) - set(recommended_movies))\n",
        "\n",
        "  precision = true_positives / (true_positives + false_positives)\n",
        "  recall = true_positives / (true_positives + false_negatives)\n",
        "\n",
        "  return precision, recall\n",
        "\n",
        "precision, recall = calculate_metrics(test_data)\n",
        "print(f\"Precision: {precision:.2f}\")\n",
        "print(f\"Recall: {recall:.2f}\")\n"
      ]
    },
    {
      "cell_type": "code",
      "execution_count": 6,
      "metadata": {
        "id": "L7BPPnP5PWMl"
      },
      "outputs": [],
      "source": [
        "# 5. Función de recomendación\n",
        "def recommend_movies(user_id, n=5):\n",
        "  recommended_movie_ids = get_recommendations(user_id, n)\n",
        "  recommended_movies = movies_df[movies_df['movieId'].isin(recommended_movie_ids)]\n",
        "  return recommended_movies[['title', 'genres']].to_dict('records')"
      ]
    },
    {
      "cell_type": "code",
      "execution_count": 7,
      "metadata": {
        "colab": {
          "base_uri": "https://localhost:8080/"
        },
        "id": "hTtYwH8TPhKW",
        "outputId": "48acdfcf-b45b-4fd9-ad3b-5758ab2520b1"
      },
      "outputs": [
        {
          "name": "stdout",
          "output_type": "stream",
          "text": [
            "Recomendaciones para el usuario 1:\n",
            "- Reservoir Dogs (1992) (Crime|Mystery|Thriller)\n",
            "- Big Lebowski, The (1998) (Comedy|Crime)\n",
            "- Ghostbusters (a.k.a. Ghost Busters) (1984) (Action|Comedy|Sci-Fi)\n",
            "- Who Framed Roger Rabbit? (1988) (Adventure|Animation|Children|Comedy|Crime|Fantasy|Mystery)\n",
            "- Spaceballs (1987) (Comedy|Sci-Fi)\n",
            "No se crearon ni modificaron archivos durante la ejecución.\n"
          ]
        }
      ],
      "source": [
        "# 6. Ejemplo de uso\n",
        "user_id = 1\n",
        "recommendations = recommend_movies(user_id)\n",
        "print(f\"Recomendaciones para el usuario {user_id}:\")\n",
        "for movie in recommendations:\n",
        "  print(f\"- {movie['title']} ({movie['genres']})\")\n",
        "\n",
        "# Created/Modified files during execution:\n",
        "print(\"No se crearon ni modificaron archivos durante la ejecución.\")"
      ]
    },
    {
      "cell_type": "markdown",
      "metadata": {
        "id": "BE1Ua1iESZcZ"
      },
      "source": [
        "Resolucion mejorada implementando SVD"
      ]
    },
    {
      "cell_type": "code",
      "execution_count": 8,
      "metadata": {
        "id": "aPRPQf0ZQuvu"
      },
      "outputs": [],
      "source": [
        "# 0. Importacion de librerias\n",
        "\n",
        "import pandas as pd\n",
        "import numpy as np\n",
        "from sklearn.model_selection import train_test_split\n",
        "from sklearn.metrics import precision_score, recall_score\n",
        "from scipy.sparse.linalg import svds"
      ]
    },
    {
      "cell_type": "code",
      "execution_count": 9,
      "metadata": {
        "id": "tKISgGELTcIX"
      },
      "outputs": [],
      "source": [
        "# 1. Carga de datos\n",
        "ratings_df = pd.read_csv('data/ratings.csv')\n",
        "movies_df = pd.read_csv('data/movies.csv')"
      ]
    },
    {
      "cell_type": "code",
      "execution_count": 10,
      "metadata": {
        "colab": {
          "base_uri": "https://localhost:8080/"
        },
        "id": "LtWJtpapTLxi",
        "outputId": "1f550315-7d2f-44c2-9c9b-e591fc1628f5"
      },
      "outputs": [
        {
          "name": "stdout",
          "output_type": "stream",
          "text": [
            "<class 'pandas.core.frame.DataFrame'>\n",
            "RangeIndex: 100836 entries, 0 to 100835\n",
            "Data columns (total 4 columns):\n",
            " #   Column     Non-Null Count   Dtype  \n",
            "---  ------     --------------   -----  \n",
            " 0   userId     100836 non-null  int64  \n",
            " 1   movieId    100836 non-null  int64  \n",
            " 2   rating     100836 non-null  float64\n",
            " 3   timestamp  100836 non-null  int64  \n",
            "dtypes: float64(1), int64(3)\n",
            "memory usage: 3.1 MB\n",
            "None\n",
            "<class 'pandas.core.frame.DataFrame'>\n",
            "RangeIndex: 9742 entries, 0 to 9741\n",
            "Data columns (total 3 columns):\n",
            " #   Column   Non-Null Count  Dtype \n",
            "---  ------   --------------  ----- \n",
            " 0   movieId  9742 non-null   int64 \n",
            " 1   title    9742 non-null   object\n",
            " 2   genres   9742 non-null   object\n",
            "dtypes: int64(1), object(2)\n",
            "memory usage: 228.5+ KB\n",
            "None\n",
            "   userId  movieId  rating  timestamp\n",
            "0       1        1     4.0  964982703\n",
            "1       1        3     4.0  964981247\n",
            "2       1        6     4.0  964982224\n",
            "3       1       47     5.0  964983815\n",
            "4       1       50     5.0  964982931\n",
            "   movieId                               title  \\\n",
            "0        1                    Toy Story (1995)   \n",
            "1        2                      Jumanji (1995)   \n",
            "2        3             Grumpier Old Men (1995)   \n",
            "3        4            Waiting to Exhale (1995)   \n",
            "4        5  Father of the Bride Part II (1995)   \n",
            "\n",
            "                                        genres  \n",
            "0  Adventure|Animation|Children|Comedy|Fantasy  \n",
            "1                   Adventure|Children|Fantasy  \n",
            "2                               Comedy|Romance  \n",
            "3                         Comedy|Drama|Romance  \n",
            "4                                       Comedy  \n",
            "Index(['userId', 'movieId', 'rating', 'timestamp'], dtype='object')\n",
            "Index(['movieId', 'title', 'genres'], dtype='object')\n",
            "userId       0\n",
            "movieId      0\n",
            "rating       0\n",
            "timestamp    0\n",
            "dtype: int64\n",
            "movieId    0\n",
            "title      0\n",
            "genres     0\n",
            "dtype: int64\n"
          ]
        }
      ],
      "source": [
        "# 2. Explorar y limpiar los datos\n",
        "print(ratings_df.info())\n",
        "print(movies_df.info())\n",
        "\n",
        "# Imprimir cabeceras\n",
        "\n",
        "print(ratings_df.head())\n",
        "print(movies_df.head())\n",
        "\n",
        "# Imprimir columnas\n",
        "\n",
        "print(ratings_df.columns)\n",
        "print(movies_df.columns)\n",
        "\n",
        "# Verificar valores nulos\n",
        "print(ratings_df.isnull().sum())\n",
        "print(movies_df.isnull().sum())\n",
        "\n",
        "# Eliminar filas con valores nulos si existen\n",
        "ratings_df = ratings_df.dropna()\n",
        "movies_df = movies_df.dropna()"
      ]
    },
    {
      "cell_type": "code",
      "execution_count": 11,
      "metadata": {
        "id": "ndxsYK-_TRPM"
      },
      "outputs": [],
      "source": [
        "# 3. Crear matriz de usuarios-películas\n",
        "user_movie_ratings = ratings_df.pivot(index='userId', columns='movieId', values='rating').fillna(0)"
      ]
    },
    {
      "cell_type": "code",
      "execution_count": 12,
      "metadata": {
        "id": "HIAJirtPTvyH"
      },
      "outputs": [],
      "source": [
        "# 4. Normalizar las calificaciones\n",
        "user_ratings_mean = np.mean(user_movie_ratings.values, axis=1)\n",
        "user_movie_ratings_demeaned = user_movie_ratings.values - user_ratings_mean.reshape(-1, 1)"
      ]
    },
    {
      "cell_type": "code",
      "execution_count": 13,
      "metadata": {
        "id": "ImI8A_FYTK1c"
      },
      "outputs": [],
      "source": [
        "# 5. Realizar SVD\n",
        "U, sigma, Vt = svds(user_movie_ratings_demeaned, k=50)"
      ]
    },
    {
      "cell_type": "code",
      "execution_count": 14,
      "metadata": {
        "id": "HSwluhmdTHQB"
      },
      "outputs": [],
      "source": [
        "# 6. Reconstruir la matriz de predicciones\n",
        "sigma_diag_matrix = np.diag(sigma)\n",
        "predicted_ratings = np.dot(np.dot(U, sigma_diag_matrix), Vt) + user_ratings_mean.reshape(-1, 1)\n",
        "preds_df = pd.DataFrame(predicted_ratings, columns=user_movie_ratings.columns, index=user_movie_ratings.index)\n",
        "\n",
        "def recommend_movies(user_id, num_recommendations=5):\n",
        "  user_row = preds_df.loc[user_id].sort_values(ascending=False)\n",
        "  already_rated = set(ratings_df[ratings_df['userId'] == user_id]['movieId'])\n",
        "  recommendations = []\n",
        "  for movie_id in user_row.index:\n",
        "      if movie_id not in already_rated:\n",
        "          recommendations.append(movie_id)\n",
        "          if len(recommendations) == num_recommendations:\n",
        "              break\n",
        "  return recommendations"
      ]
    },
    {
      "cell_type": "code",
      "execution_count": 15,
      "metadata": {
        "colab": {
          "base_uri": "https://localhost:8080/"
        },
        "id": "w7BSIIDLSwVe",
        "outputId": "b0d7b874-1256-4190-a5f7-9d83a0e9b418"
      },
      "outputs": [
        {
          "name": "stdout",
          "output_type": "stream",
          "text": [
            "Precision: 0.96\n",
            "Recall: 0.28\n"
          ]
        }
      ],
      "source": [
        "# 7. Calcular precision y exahustividad del modelo\n",
        "def evaluate_model(test_data, threshold=3.5):\n",
        "  true_positives = 0\n",
        "  false_positives = 0\n",
        "  false_negatives = 0\n",
        "\n",
        "  for _, row in test_data.iterrows():\n",
        "      user_id = row['userId']\n",
        "      movie_id = row['movieId']\n",
        "      actual_rating = row['rating']\n",
        "      predicted_rating = preds_df.loc[user_id, movie_id]\n",
        "\n",
        "      if predicted_rating >= threshold and actual_rating >= threshold:\n",
        "          true_positives += 1\n",
        "      elif predicted_rating >= threshold and actual_rating < threshold:\n",
        "          false_positives += 1\n",
        "      elif predicted_rating < threshold and actual_rating >= threshold:\n",
        "          false_negatives += 1\n",
        "\n",
        "  precision = true_positives / (true_positives + false_positives) if (true_positives + false_positives) > 0 else 0\n",
        "  recall = true_positives / (true_positives + false_negatives) if (true_positives + false_negatives) > 0 else 0\n",
        "\n",
        "  return precision, recall\n",
        "\n",
        "# Dividir datos en entrenamiento y prueba\n",
        "train_data, test_data = train_test_split(ratings_df, test_size=0.2, random_state=42)\n",
        "\n",
        "# Evaluar el modelo\n",
        "precision, recall = evaluate_model(test_data)\n",
        "print(f\"Precision: {precision:.2f}\")\n",
        "print(f\"Recall: {recall:.2f}\")"
      ]
    },
    {
      "cell_type": "code",
      "execution_count": 16,
      "metadata": {
        "colab": {
          "base_uri": "https://localhost:8080/"
        },
        "id": "5IMdW0MfStyg",
        "outputId": "642b487f-e239-4078-ade6-25d7a431be1d"
      },
      "outputs": [
        {
          "name": "stdout",
          "output_type": "stream",
          "text": [
            "\n",
            "Recomendaciones para el usuario 1:\n",
            "- Godfather, The (1972) (Crime|Drama)\n",
            "- Die Hard (1988) (Action|Crime|Thriller)\n",
            "- Godfather: Part II, The (1974) (Crime|Drama)\n",
            "- Jaws (1975) (Action|Horror)\n",
            "- Breakfast Club, The (1985) (Comedy|Drama)\n",
            "No se crearon ni modificaron archivos durante la ejecución.\n"
          ]
        }
      ],
      "source": [
        "# 8. Ejemplo de uso\n",
        "user_id = 1\n",
        "recommended_movie_ids = recommend_movies(user_id)\n",
        "recommended_movies = movies_df[movies_df['movieId'].isin(recommended_movie_ids)]\n",
        "print(f\"\\nRecomendaciones para el usuario {user_id}:\")\n",
        "for _, movie in recommended_movies.iterrows():\n",
        "  print(f\"- {movie['title']} ({movie['genres']})\")\n",
        "\n",
        "# Created/Modified files during execution:\n",
        "print(\"No se crearon ni modificaron archivos durante la ejecución.\")"
      ]
    }
  ],
  "metadata": {
    "colab": {
      "provenance": []
    },
    "kernelspec": {
      "display_name": "Python 3",
      "name": "python3"
    },
    "language_info": {
      "codemirror_mode": {
        "name": "ipython",
        "version": 3
      },
      "file_extension": ".py",
      "mimetype": "text/x-python",
      "name": "python",
      "nbconvert_exporter": "python",
      "pygments_lexer": "ipython3",
      "version": "3.11.5"
    }
  },
  "nbformat": 4,
  "nbformat_minor": 0
}
